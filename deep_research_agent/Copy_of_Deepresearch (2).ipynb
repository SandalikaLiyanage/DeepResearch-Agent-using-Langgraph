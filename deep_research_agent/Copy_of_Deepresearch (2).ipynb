{
  "nbformat": 4,
  "nbformat_minor": 0,
  "metadata": {
    "colab": {
      "provenance": []
    },
    "kernelspec": {
      "name": "python3",
      "display_name": "Python 3"
    },
    "language_info": {
      "name": "python"
    }
  },
  "cells": [
    {
      "cell_type": "markdown",
      "source": [
        "**Install Dependencies**"
      ],
      "metadata": {
        "id": "MgflITQTUeZI"
      }
    },
    {
      "cell_type": "code",
      "execution_count": null,
      "metadata": {
        "collapsed": true,
        "id": "7DLgv0-YUXO9"
      },
      "outputs": [],
      "source": [
        "!pip install langchain\n",
        "!pip install langchain-openai\n",
        "!pip install langchain-community\n",
        "!pip install langgraph\n",
        "!pip install rich\n",
        "!pip install -U langchain-tavily"
      ]
    },
    {
      "cell_type": "markdown",
      "source": [
        "**Configure your API connections -OPEN AI API KEY and TAVILY API KEY**"
      ],
      "metadata": {
        "id": "p5QZxMXJVKmO"
      }
    },
    {
      "cell_type": "code",
      "source": [
        "import getpass\n",
        "\n",
        "OPENAI_API_KEY = getpass.getpass('Enter your OpenAI API Key: ')\n",
        "TAVILY_API_KEY = getpass.getpass('Enter your Tavily API Key: ')"
      ],
      "metadata": {
        "id": "O62OC4BvVF3Q"
      },
      "execution_count": null,
      "outputs": []
    },
    {
      "cell_type": "code",
      "source": [
        "import os\n",
        "os.environ['OPENAI_API_KEY'] = OPENAI_API_KEY\n",
        "os.environ['TAVILY_API_KEY'] = TAVILY_API_KEY"
      ],
      "metadata": {
        "id": "hSgnKj8jBQGd"
      },
      "execution_count": null,
      "outputs": []
    },
    {
      "cell_type": "markdown",
      "source": [
        "**Define Agent State Schema** - defining the structure as a placeholder for the report"
      ],
      "metadata": {
        "id": "4oNEJwVtZLtn"
      }
    },
    {
      "cell_type": "code",
      "source": [
        "from typing_extensions import TypedDict\n",
        "from pydantic import BaseModel, Field\n",
        "import operator\n",
        "from typing import  Annotated, List, Optional, Literal\n",
        "\n",
        "# defines structure for each section in the report\n",
        "class Section(BaseModel):\n",
        "    name: str = Field(\n",
        "        description=\"Name for a particular section of the report.\",\n",
        "    )\n",
        "    description: str = Field(\n",
        "        description=\"Brief overview of the main topics and concepts to be covered in this section.\",\n",
        "    )\n",
        "    research: bool = Field(\n",
        "        description=\"Whether to perform web search for this section of the report.\"\n",
        "    )\n",
        "    content: str = Field(\n",
        "        description=\"The content for this section.\"\n",
        "    )\n",
        "\n",
        "class Sections(BaseModel):\n",
        "    sections: List[Section] = Field(\n",
        "        description=\"All the Sections of the overall report.\",\n",
        "    )\n",
        "\n",
        "# defines structure for queries generated for deep research\n",
        "class SearchQuery(BaseModel):\n",
        "    search_query: str = Field(None, description=\"Query for web search.\")\n",
        "\n",
        "class Queries(BaseModel):\n",
        "    queries: List[SearchQuery] = Field(\n",
        "        description=\"List of web search queries.\",\n",
        "    )\n",
        "\n",
        "# consists of input topic and output report generated\n",
        "class ReportStateInput(TypedDict):\n",
        "    topic: str # Report topic\n",
        "\n",
        "class ReportStateOutput(TypedDict):\n",
        "    final_report: str # Final report\n",
        "\n",
        "# overall agent state which will be passed and updated in nodes in the graph\n",
        "class ReportState(TypedDict):\n",
        "    topic: str # Report topic\n",
        "    sections: list[Section] # List of report sections\n",
        "    completed_sections: Annotated[list, operator.add] # Send() API\n",
        "    report_sections_from_research: str # completed sections to write final sections\n",
        "    final_report: str # Final report\n",
        "\n",
        "# defines the key structure for sections written using the agent\n",
        "class SectionState(TypedDict):\n",
        "    section: Section # Report section\n",
        "    search_queries: list[SearchQuery] # List of search queries\n",
        "    source_str: str # String of formatted source content from web search\n",
        "    report_sections_from_research: str # completed sections to write final sections\n",
        "    completed_sections: list[Section] # Final key in outer state for Send() API\n",
        "\n",
        "class SectionOutputState(TypedDict):\n",
        "    completed_sections: list[Section] # Final key in outer state for Send() API\n",
        "\n"
      ],
      "metadata": {
        "id": "JHBf2Lp2Xj7X"
      },
      "execution_count": null,
      "outputs": []
    },
    {
      "cell_type": "markdown",
      "source": [
        "**Utility Functions**"
      ],
      "metadata": {
        "id": "Qwe3D3Cmp0Nb"
      }
    },
    {
      "cell_type": "code",
      "source": [
        "from langchain_tavily import TavilySearch\n",
        "import asyncio\n",
        "from dataclasses import asdict, dataclass\n",
        "from typing import Dict, Any, List, Union\n",
        "\n",
        "@dataclass\n",
        "class SearchQuery:\n",
        "    search_query: str\n",
        "\n",
        "    def to_dict(self) -> Dict[str, Any]:\n",
        "        return asdict(self)\n",
        "\n",
        "tavily_search = TavilySearch(\n",
        "    max_results=5,\n",
        "    topic=\"general\",\n",
        "    search_depth=\"advanced\",\n",
        "    include_answer=False,\n",
        "    include_raw_content=True\n",
        ")\n",
        "\n",
        "async def run_search_queries(\n",
        "    search_queries: List[Union[str, SearchQuery]],\n",
        "    num_results: int = 5,\n",
        "    include_raw_content: bool = False\n",
        ") -> List[Dict]:\n",
        "    \"\"\"\n",
        "    Run multiple search queries concurrently using the new Tavily integration\n",
        "    \"\"\"\n",
        "    search_tasks = []\n",
        "\n",
        "    for query in search_queries:\n",
        "        # Handle both string and SearchQuery objects\n",
        "        query_str = query.search_query if isinstance(query, SearchQuery) else str(query)\n",
        "\n",
        "        try:\n",
        "            # Get results from tavily async (in parallel) for each search query\n",
        "            search_task = asyncio.create_task(\n",
        "                asyncio.to_thread(\n",
        "                    tavily_search.invoke,\n",
        "                    {\"query\": query_str}\n",
        "                )\n",
        "            )\n",
        "            search_tasks.append(search_task)\n",
        "        except Exception as e:\n",
        "            print(f\"Error creating search task for query '{query_str}': {e}\")\n",
        "            continue\n",
        "\n",
        "    # Execute all searches concurrently and await results\n",
        "    try:\n",
        "        if not search_tasks:\n",
        "            return []\n",
        "\n",
        "        search_results = await asyncio.gather(*search_tasks, return_exceptions=True)\n",
        "\n",
        "        # Filter out any exceptions from the results\n",
        "        valid_results = [\n",
        "            result for result in search_results\n",
        "            if not isinstance(result, Exception)\n",
        "        ]\n",
        "\n",
        "        return valid_results\n",
        "    except Exception as e:\n",
        "        print(f\"Error during search queries: {e}\")\n",
        "        return []"
      ],
      "metadata": {
        "id": "_LXRwUupp8GG"
      },
      "execution_count": null,
      "outputs": []
    },
    {
      "cell_type": "markdown",
      "source": [
        "**format search query results**"
      ],
      "metadata": {
        "id": "VCK-aYuzZ1ey"
      }
    },
    {
      "cell_type": "code",
      "source": [
        "import tiktoken\n",
        "from typing import List, Dict, Union, Any\n",
        "\n",
        "def format_search_query_results(\n",
        "    search_response: Union[Dict[str, Any], List[Any]],\n",
        "    max_tokens: int = 2000,\n",
        "    include_raw_content: bool = False\n",
        ") -> str:\n",
        "    \"\"\"\n",
        "    Format search results from the new Tavily integration\n",
        "    \"\"\"\n",
        "    encoding = tiktoken.encoding_for_model(\"gpt-4\")\n",
        "    sources_list = []\n",
        "\n",
        "    # Handle different response formats if search results is a dict\n",
        "    if isinstance(search_response, dict):\n",
        "        if 'results' in search_response:\n",
        "            sources_list.extend(search_response['results'])\n",
        "        elif 'content' in search_response:\n",
        "            # Handle single result format\n",
        "            sources_list.append(search_response)\n",
        "    elif isinstance(search_response, list):\n",
        "        for response in search_response:\n",
        "            if isinstance(response, dict):\n",
        "                if 'results' in response:\n",
        "                    sources_list.extend(response['results'])\n",
        "                else:\n",
        "                    sources_list.append(response)\n",
        "            elif isinstance(response, list):\n",
        "                sources_list.extend(response)\n",
        "\n",
        "\n",
        "    if not sources_list:\n",
        "        return \"No search results found.\"\n",
        "\n",
        "    # Deduplicate by URL and keep unique sources (website urls)\n",
        "    unique_sources = {}\n",
        "    for source in sources_list:\n",
        "        if isinstance(source, dict) and 'url' in source:\n",
        "            if source['url'] not in unique_sources:\n",
        "                unique_sources[source['url']] = source\n",
        "\n",
        "    # Format output\n",
        "    formatted_text = \"Content from web search:\\n\\n\"\n",
        "    for i, source in enumerate(unique_sources.values(), 1):\n",
        "        formatted_text += f\"Source {i}: {source.get('title', 'Untitled')}\\n\"\n",
        "        formatted_text += f\"URL: {source['url']}\\n\"\n",
        "        formatted_text += f\"Content: {source.get('content', 'No content available')}\\n\"\n",
        "\n",
        "        if include_raw_content:\n",
        "            # truncate raw webpage content to a certain number of tokens to prevent exceeding LLM max token window\n",
        "            raw_content = source.get(\"raw_content\", \"\")\n",
        "            if raw_content:\n",
        "                tokens = encoding.encode(raw_content)\n",
        "                truncated_tokens = tokens[:max_tokens]\n",
        "                truncated_content = encoding.decode(truncated_tokens)\n",
        "                formatted_text += f\"Raw Content: {truncated_content}\\n\\n\"\n",
        "\n",
        "\n",
        "        formatted_text += \"\\n\" + \"=\"*50 + \"\\n\\n\"\n",
        "\n",
        "    return formatted_text.strip()"
      ],
      "metadata": {
        "id": "pKJ8YZTDBXE6"
      },
      "execution_count": null,
      "outputs": []
    },
    {
      "cell_type": "markdown",
      "source": [
        "*We can test out these functions just to see if it work as follows:*"
      ],
      "metadata": {
        "id": "PmV-NreaacKo"
      }
    },
    {
      "cell_type": "code",
      "source": [
        "# Test the async version\n",
        "search_queries = ['what is langchain']\n",
        "\n",
        "print(\"Running async searches...\")\n",
        "docs = await run_search_queries(search_queries, include_raw_content=True)\n",
        "\n",
        "output = format_search_query_results(docs, max_tokens=500, include_raw_content=True)\n",
        "print(output)"
      ],
      "metadata": {
        "collapsed": true,
        "id": "y2GdJZV5afFN"
      },
      "execution_count": null,
      "outputs": []
    },
    {
      "cell_type": "markdown",
      "source": [
        "**Creating a Default Report Template**"
      ],
      "metadata": {
        "id": "sdfcgWSsNoHh"
      }
    },
    {
      "cell_type": "code",
      "source": [
        "# Structure Guideline\n",
        "DEFAULT_REPORT_STRUCTURE = \"\"\"The report structure should focus on breaking-down the user-provided topic\n",
        "                              and building a comprehensive report in markdown using the following format:\n",
        "\n",
        "\n",
        "                              1. Introduction (no web search needed)\n",
        "                                    - Brief overview of the topic area\n",
        "\n",
        "\n",
        "                              2. Main Body Sections:\n",
        "                                    - Each section should focus on a sub-topic of the user-provided topic\n",
        "                                    - Include any key concepts and definitions\n",
        "                                    - Provide real-world examples or case studies where applicable\n",
        "\n",
        "\n",
        "                              3. Conclusion (no web search needed)\n",
        "                                    - Aim for 1 structural element (either a list of table) that distills the main body sections\n",
        "                                    - Provide a concise summary of the report\n",
        "\n",
        "\n",
        "                              When generating the final response in markdown, if there are special characters in the text,\n",
        "                              such as the dollar symbol, ensure they are escaped properly for correct rendering e.g $25.5 should become \\$25.5\n",
        "                          \"\"\""
      ],
      "metadata": {
        "id": "oG6tcd6JFURw"
      },
      "execution_count": null,
      "outputs": []
    },
    {
      "cell_type": "markdown",
      "source": [
        "# Instruction Prompts for Report Planner"
      ],
      "metadata": {
        "id": "NAUKV3KuOmZD"
      }
    },
    {
      "cell_type": "markdown",
      "source": [
        "**1. REPORT_PLAN_QUERY_GENERATOR_PROMPT**"
      ],
      "metadata": {
        "id": "If0M9OyvWDVV"
      }
    },
    {
      "cell_type": "code",
      "source": [
        "REPORT_PLAN_QUERY_GENERATOR_PROMPT = \"\"\"You are an expert technical report writer, helping to plan a report.\n",
        "\n",
        "The report will be focused on the following topic:\n",
        "{topic}\n",
        "\n",
        "The report structure will follow these guidelines:\n",
        "{report_organization}\n",
        "\n",
        "Your goal is to generate {number_of_queries} search queries that will help gather comprehensive information for planning the report sections.\n",
        "\n",
        "The query should:\n",
        "1. Be related to the topic\n",
        "2. Help satisfy the requirements specified in the report organization\n",
        "\n",
        "Make the query specific enough to find high-quality, relevant sources while covering the depth and breadth needed for the report structure.\n",
        "\"\"\""
      ],
      "metadata": {
        "id": "6axImeU5NxyC"
      },
      "execution_count": null,
      "outputs": []
    },
    {
      "cell_type": "markdown",
      "source": [
        "**2. REPORT_PLAN_SECTION_GENERATOR_PROMPT**"
      ],
      "metadata": {
        "id": "6MiPNgHLlhNK"
      }
    },
    {
      "cell_type": "code",
      "source": [
        "REPORT_PLAN_SECTION_GENERATOR_PROMPT = \"\"\"You are an expert technical report writer, helping to plan a report.\n",
        "\n",
        "Your goal is to generate the outline of the sections of the report.\n",
        "\n",
        "The overall topic of the report is:\n",
        "{topic}\n",
        "\n",
        "The report should follow this organizational structure:\n",
        "{report_organization}\n",
        "\n",
        "You should reflect on this additional context information from web searches to plan the main sections of the report:\n",
        "{search_context}\n",
        "\n",
        "Now, generate the sections of the report. Each section should have the following fields:\n",
        "- Name - Name for this section of the report.\n",
        "- Description - Brief overview of the main topics and concepts to be covered in this section.\n",
        "- Research - Whether to perform web search for this section of the report or not.\n",
        "- Content - The content of the section, which you will leave blank for now.\n",
        "\n",
        "Consider which sections require web search.\n",
        "For example, introduction and conclusion will not require research because they will distill information from other parts of the report.\n",
        "\"\"\""
      ],
      "metadata": {
        "id": "M0IkKw46Vvxe"
      },
      "execution_count": null,
      "outputs": []
    },
    {
      "cell_type": "markdown",
      "source": [
        "**Node Function for Report Planner**"
      ],
      "metadata": {
        "id": "VJIeHEA5l0J8"
      }
    },
    {
      "cell_type": "code",
      "source": [
        "from langchain_openai import ChatOpenAI\n",
        "from langchain_core.messages import HumanMessage, SystemMessage\n",
        "\n",
        "llm = ChatOpenAI(model_name=\"gpt-4o\", temperature=0)\n",
        "\n",
        "async def generate_report_plan(state: ReportState):\n",
        "    \"\"\"Generate the overall plan for building the report\"\"\"\n",
        "    topic = state[\"topic\"]\n",
        "    print('--- Generating Report Plan ---')\n",
        "\n",
        "    report_structure = DEFAULT_REPORT_STRUCTURE\n",
        "    number_of_queries = 8\n",
        "\n",
        "    structured_llm = llm.with_structured_output(Queries)\n",
        "\n",
        "    system_instructions_query = REPORT_PLAN_QUERY_GENERATOR_PROMPT.format(\n",
        "        topic=topic,\n",
        "        report_organization=report_structure,\n",
        "        number_of_queries=number_of_queries\n",
        "    )\n",
        "\n",
        "    try:\n",
        "        # Generate queries\n",
        "        results = structured_llm.invoke([\n",
        "            SystemMessage(content=system_instructions_query),\n",
        "            HumanMessage(content='Generate search queries that will help with planning the sections of the report.')\n",
        "        ])\n",
        "        # Convert SearchQuery objects to strings\n",
        "        query_list = [\n",
        "            query.search_query if isinstance(query, SearchQuery) else str(query)\n",
        "            for query in results.queries\n",
        "        ]\n",
        "        # Search web and ensure we wait for results\n",
        "        search_docs = await run_search_queries(\n",
        "            query_list,\n",
        "            num_results=5,\n",
        "            include_raw_content=False\n",
        "        )\n",
        "        if not search_docs:\n",
        "            print(\"Warning: No search results returned\")\n",
        "            search_context = \"No search results available.\"\n",
        "        else:\n",
        "            search_context = format_search_query_results(\n",
        "                search_docs,\n",
        "                include_raw_content=False\n",
        "            )\n",
        "        # Generate sections\n",
        "        system_instructions_sections = REPORT_PLAN_SECTION_GENERATOR_PROMPT.format(\n",
        "            topic=topic,\n",
        "            report_organization=report_structure,\n",
        "            search_context=search_context\n",
        "        )\n",
        "        structured_llm = llm.with_structured_output(Sections)\n",
        "        report_sections = structured_llm.invoke([\n",
        "            SystemMessage(content=system_instructions_sections),\n",
        "            HumanMessage(content=\"Generate the sections of the report. Your response must include a 'sections' field containing a list of sections. Each section must have: name, description, plan, research, and content fields.\")\n",
        "        ])\n",
        "\n",
        "        print('--- Generating Report Plan Completed ---')\n",
        "        return {\"sections\": report_sections.sections}\n",
        "\n",
        "    except Exception as e:\n",
        "        print(f\"Error in generate_report_plan: {e}\")\n",
        "        return {\"sections\": []}"
      ],
      "metadata": {
        "id": "m2QZT_NSl8rx"
      },
      "execution_count": null,
      "outputs": []
    },
    {
      "cell_type": "markdown",
      "source": [
        "**REPORT_SECTION_QUERY_GENERATOR_PROMPT**"
      ],
      "metadata": {
        "id": "03hooTlEnjB2"
      }
    },
    {
      "cell_type": "code",
      "source": [
        "REPORT_SECTION_QUERY_GENERATOR_PROMPT = \"\"\"Your goal is to generate targeted web search queries that will gather comprehensive information for writing a technical report section.\n",
        "\n",
        "Topic for this section:\n",
        "{section_topic}\n",
        "\n",
        "When generating {number_of_queries} search queries, ensure that they:\n",
        "1. Cover different aspects of the topic (e.g., core features, real-world applications, technical architecture)\n",
        "2. Include specific technical terms related to the topic\n",
        "3. Target recent information by including year markers where relevant (e.g., \"2025\")\n",
        "4. Look for comparisons or differentiators from similar technologies/approaches\n",
        "5. Search for both official documentation and practical implementation examples\n",
        "\n",
        "Your queries should be:\n",
        "- Specific enough to avoid generic results\n",
        "- Technical enough to capture detailed implementation information\n",
        "- Diverse enough to cover all aspects of the section plan\n",
        "- Focused on authoritative sources (documentation, technical blogs, academic papers)\"\"\"\n"
      ],
      "metadata": {
        "id": "_vi1onAcnrM9"
      },
      "execution_count": null,
      "outputs": []
    },
    {
      "cell_type": "markdown",
      "source": [
        "**Node Function for Section Builder – Generate Queries (Query Generator)**"
      ],
      "metadata": {
        "id": "WYjLtl3hnvSx"
      }
    },
    {
      "cell_type": "code",
      "source": [
        "def generate_queries(state: SectionState):\n",
        "    \"\"\" Generate search queries for a specific report section \"\"\"\n",
        "\n",
        "    # Get state\n",
        "    section = state[\"section\"]\n",
        "    print('--- Generating Search Queries for Section: '+ section.name +' ---')\n",
        "    # Get configuration\n",
        "    number_of_queries = 5\n",
        "    # Generate queries\n",
        "    structured_llm = llm.with_structured_output(Queries)\n",
        "    # Format system instructions\n",
        "    system_instructions = REPORT_SECTION_QUERY_GENERATOR_PROMPT.format(section_topic=section.description,                                                                       number_of_queries=number_of_queries)\n",
        "    # Generate queries\n",
        "    user_instruction = \"Generate search queries on the provided topic.\"\n",
        "    search_queries = structured_llm.invoke([SystemMessage(content=system_instructions),\n",
        "                                     HumanMessage(content=user_instruction)])\n",
        "\n",
        "    print('--- Generating Search Queries for Section: '+ section.name +' Completed ---')\n",
        "    return {\"search_queries\": search_queries.queries}"
      ],
      "metadata": {
        "id": "-c1geV7kwu2i"
      },
      "execution_count": null,
      "outputs": []
    },
    {
      "cell_type": "markdown",
      "source": [
        "**Node Function for Section Builder – Search Web**"
      ],
      "metadata": {
        "id": "s0yHxITOw0ph"
      }
    },
    {
      "cell_type": "code",
      "source": [
        "async def search_web(state: SectionState):\n",
        "    \"\"\" Search the web for each query, then return a list of raw sources and a formatted string of sources.\"\"\"\n",
        "\n",
        "    # Get state\n",
        "    search_queries = state[\"search_queries\"]\n",
        "    print('--- Searching Web for Queries ---')\n",
        "    # Web search\n",
        "    query_list = [query.search_query for query in search_queries]\n",
        "    search_docs = await run_search_queries(search_queries, num_results=6, include_raw_content=True)\n",
        "    # Deduplicate and format sources\n",
        "    search_context = format_search_query_results(search_docs, max_tokens=4000, include_raw_content=True)\n",
        "\n",
        "    print('--- Searching Web for Queries Completed ---')\n",
        "    return {\"source_str\": search_context}"
      ],
      "metadata": {
        "id": "zntKs1Hww5Uk"
      },
      "execution_count": null,
      "outputs": []
    },
    {
      "cell_type": "markdown",
      "source": [
        "# Instruction Prompts for Section Builder – Section Writer"
      ],
      "metadata": {
        "id": "-MnjjKZ5w9cQ"
      }
    },
    {
      "cell_type": "markdown",
      "source": [
        "**1. SECTION_WRITER_PROMPT**"
      ],
      "metadata": {
        "id": "o5MgtWxkxEwK"
      }
    },
    {
      "cell_type": "code",
      "source": [
        "SECTION_WRITER_PROMPT = \"\"\"You are an expert technical writer crafting one specific section of a technical report.\n",
        "\n",
        "Title for the section:\n",
        "{section_title}\n",
        "\n",
        "Topic for this section:\n",
        "{section_topic}\n",
        "\n",
        "Guidelines for writing:\n",
        "\n",
        "1. Technical Accuracy:\n",
        "- Include specific version numbers\n",
        "- Reference concrete metrics/benchmarks\n",
        "- Cite official documentation\n",
        "- Use technical terminology precisely\n",
        "\n",
        "2. Length and Style:\n",
        "- Strict 150-200 word limit\n",
        "- No marketing language\n",
        "- Technical focus\n",
        "- Write in simple, clear language do not use complex words unnecessarily\n",
        "- Start with your most important insight in **bold**\n",
        "- Use short paragraphs (2-3 sentences max)\n",
        "\n",
        "3. Structure:\n",
        "- Use ## for section title (Markdown format)\n",
        "- Only use ONE structural element IF it helps clarify your point:\n",
        "  * Either a focused table comparing 2-3 key items (using Markdown table syntax)\n",
        "  * Or a short list (3-5 items) using proper Markdown list syntax:\n",
        "    - Use `*` or `-` for unordered lists\n",
        "    - Use `1.` for ordered lists\n",
        "    - Ensure proper indentation and spacing\n",
        "- End with ### Sources that references the below source material formatted as:\n",
        "  * List each source with title, date, and URL\n",
        "  * Format: `- Title : URL`\n",
        "\n",
        "3. Writing Approach:\n",
        "- Include at least one specific example or case study if available\n",
        "- Use concrete details over general statements\n",
        "- Make every word count\n",
        "- No preamble prior to creating the section content\n",
        "- Focus on your single most important point\n",
        "\n",
        "4. Use this source material obtained from web searches to help write the section:\n",
        "{context}\n",
        "\n",
        "5. Quality Checks:\n",
        "- Format should be Markdown\n",
        "- Exactly 150-200 words (excluding title and sources)\n",
        "- Careful use of only ONE structural element (table or bullet list) and only if it helps clarify your point\n",
        "- One specific example / case study if available\n",
        "- Starts with bold insight\n",
        "- No preamble prior to creating the section content\n",
        "- Sources cited at end\n",
        "- If there are special characters in the text, such as the dollar symbol,\n",
        "  ensure they are escaped properly for correct rendering e.g $25.5 should become \\$25.5\n",
        "\"\"\""
      ],
      "metadata": {
        "id": "WRh8_pScxK0j"
      },
      "execution_count": null,
      "outputs": []
    },
    {
      "cell_type": "markdown",
      "source": [
        "**Node Function for Section Builder – Write Section (Section Writer)**\n"
      ],
      "metadata": {
        "id": "_UXKYLwo7eu6"
      }
    },
    {
      "cell_type": "markdown",
      "source": [
        "![Screenshot 2025-07-14 181327.png](data:image/png;base64,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)"
      ],
      "metadata": {
        "id": "mCUgbtxr9k1r"
      }
    },
    {
      "cell_type": "code",
      "source": [
        "def write_section(state: SectionState):\n",
        "    \"\"\" Write a section of the report \"\"\"\n",
        "\n",
        "    # Get state\n",
        "    section = state[\"section\"]\n",
        "    source_str = state[\"source_str\"]\n",
        "    print('--- Writing Section : '+ section.name +' ---')\n",
        "    # Format system instructions\n",
        "    system_instructions = SECTION_WRITER_PROMPT.format(section_title=section.name,                                                     section_topic=section.description,                                                       context=source_str)\n",
        "    # Generate section\n",
        "    user_instruction = \"Generate a report section based on the provided sources.\"\n",
        "    section_content = llm.invoke([SystemMessage(content=system_instructions),\n",
        "                                  HumanMessage(content=user_instruction)])\n",
        "    # Write content to the section object\n",
        "    section.content = section_content.content\n",
        "\n",
        "    print('--- Writing Section : '+ section.name +' Completed ---')\n",
        "    # Write the updated section to completed sections\n",
        "    return {\"completed_sections\": [section]}"
      ],
      "metadata": {
        "id": "C5inHelF7gdY"
      },
      "execution_count": null,
      "outputs": []
    },
    {
      "cell_type": "markdown",
      "source": [
        "**Create the Section Builder Sub-Agent**\n",
        "*This agent (or to be more specific, sub-agent) will be called several times in parallel, once for each section to search the web, get content and then write up that specific section. We leverage LangGraph for that*"
      ],
      "metadata": {
        "id": "BCJzQGEF-TfP"
      }
    },
    {
      "cell_type": "markdown",
      "source": [],
      "metadata": {
        "id": "B1LKTzgO7nwH"
      }
    },
    {
      "cell_type": "code",
      "source": [
        "from langgraph.graph import StateGraph, START, END\n",
        "\n",
        "# Add nodes and edges\n",
        "section_builder = StateGraph(SectionState, output=SectionOutputState)\n",
        "section_builder.add_node(\"generate_queries\", generate_queries)\n",
        "section_builder.add_node(\"search_web\", search_web)\n",
        "section_builder.add_node(\"write_section\", write_section)\n",
        "section_builder.add_edge(START, \"generate_queries\")\n",
        "section_builder.add_edge(\"generate_queries\", \"search_web\")\n",
        "section_builder.add_edge(\"search_web\", \"write_section\")\n",
        "section_builder.add_edge(\"write_section\", END)\n",
        "section_builder_subagent = section_builder.compile()\n",
        "\n",
        "# Display the graph\n",
        "from IPython.display import display, Image\n",
        "Image(section_builder_subagent.get_graph().draw_mermaid_png())\n"
      ],
      "metadata": {
        "id": "x3AMbMIu-Xns"
      },
      "execution_count": null,
      "outputs": []
    },
    {
      "cell_type": "markdown",
      "source": [
        "**Create Dynamic Parallelization Node Function – Parallelize Section Writing**"
      ],
      "metadata": {
        "id": "LmMYzVDn-ahk"
      }
    },
    {
      "cell_type": "code",
      "source": [
        "from langgraph.constants import Send\n",
        "\n",
        "\n",
        "def parallelize_section_writing(state: ReportState):\n",
        "    \"\"\" This is the \"map\" step when we kick off web research for some sections of the report in parallel and then write the section\"\"\"\n",
        "\n",
        "\n",
        "    # Kick off section writing in parallel via Send() API for any sections that require research\n",
        "    return [\n",
        "        Send(\"section_builder_with_web_search\", # name of the subagent node\n",
        "             {\"section\": s})\n",
        "            for s in state[\"sections\"]\n",
        "              if s.research\n",
        "    ]"
      ],
      "metadata": {
        "id": "wnjXlevd-fY0"
      },
      "execution_count": null,
      "outputs": []
    },
    {
      "cell_type": "markdown",
      "source": [
        "**Create Format Sections Node Function**"
      ],
      "metadata": {
        "id": "3SKQKOoC-hgF"
      }
    },
    {
      "cell_type": "code",
      "source": [
        "def format_sections(sections: list[Section]) -> str:\n",
        "    \"\"\" Format a list of report sections into a single text string \"\"\"\n",
        "    formatted_str = \"\"\n",
        "    for idx, section in enumerate(sections, 1):\n",
        "        formatted_str += f\"\"\"\n",
        "{'='*60}\n",
        "Section {idx}: {section.name}\n",
        "{'='*60}\n",
        "Description:\n",
        "{section.description}\n",
        "Requires Research:\n",
        "{section.research}\n",
        "\n",
        "Content:\n",
        "{section.content if section.content else '[Not yet written]'}\n",
        "\n",
        "\"\"\"\n",
        "    return formatted_str\n",
        "\n",
        "def format_completed_sections(state: ReportState):\n",
        "    \"\"\" Gather completed sections from research and format them as context for writing the final sections \"\"\"\n",
        "\n",
        "    print('--- Formatting Completed Sections ---')\n",
        "    # List of completed sections\n",
        "    completed_sections = state[\"completed_sections\"]\n",
        "    # Format completed section to str to use as context for final sections\n",
        "    completed_report_sections = format_sections(completed_sections)\n",
        "\n",
        "    print('--- Formatting Completed Sections is Done ---')\n",
        "    return {\"report_sections_from_research\": completed_report_sections}"
      ],
      "metadata": {
        "id": "w9ITjx6D-lry"
      },
      "execution_count": null,
      "outputs": []
    },
    {
      "cell_type": "markdown",
      "source": [
        "# Instruction Prompts for the Final Section"
      ],
      "metadata": {
        "id": "PzzeRL31-oQF"
      }
    },
    {
      "cell_type": "markdown",
      "source": [
        "**1. FINAL_SECTION_WRITER_PROMPT**"
      ],
      "metadata": {
        "id": "qJ0jzmgt-rOa"
      }
    },
    {
      "cell_type": "code",
      "source": [
        "FINAL_SECTION_WRITER_PROMPT = \"\"\"You are an expert technical writer crafting a section that synthesizes information from the rest of the report.\n",
        "\n",
        "Title for the section:\n",
        "{section_title}\n",
        "\n",
        "Topic for this section:\n",
        "{section_topic}\n",
        "\n",
        "Available report content of already completed sections:\n",
        "{context}\n",
        "\n",
        "1. Section-Specific Approach:\n",
        "\n",
        "For Introduction:\n",
        "- Use # for report title (Markdown format)\n",
        "- 50-100 word limit\n",
        "- Write in simple and clear language\n",
        "- Focus on the core motivation for the report in 1-2 paragraphs\n",
        "- Use a clear narrative arc to introduce the report\n",
        "- Include NO structural elements (no lists or tables)\n",
        "- No sources section needed\n",
        "\n",
        "For Conclusion/Summary:\n",
        "- Use ## for section title (Markdown format)\n",
        "- 100-150 word limit\n",
        "- For comparative reports:\n",
        "    * Must include a focused comparison table using Markdown table syntax\n",
        "    * Table should distill insights from the report\n",
        "    * Keep table entries clear and concise\n",
        "- For non-comparative reports:\n",
        "    * Only use ONE structural element IF it helps distill the points made in the report:\n",
        "    * Either a focused table comparing items present in the report (using Markdown table syntax)\n",
        "    * Or a short list using proper Markdown list syntax:\n",
        "      - Use `*` or `-` for unordered lists\n",
        "      - Use `1.` for ordered lists\n",
        "      - Ensure proper indentation and spacing\n",
        "- End with specific next steps or implications\n",
        "- No sources section needed\n",
        "\n",
        "3. Writing Approach:\n",
        "- Use concrete details over general statements\n",
        "- Make every word count\n",
        "- Focus on your single most important point\n",
        "\n",
        "4. Quality Checks:\n",
        "- For introduction: 50-100 word limit, # for report title, no structural elements, no sources section\n",
        "- For conclusion: 100-150 word limit, ## for section title, only ONE structural element at most, no sources section\n",
        "- Markdown format\n",
        "- Do not include word count or any preamble in your response\n",
        "- If there are special characters in the text, such as the dollar symbol,\n",
        "  ensure they are escaped properly for correct rendering e.g $25.5 should become \\$25.5\"\"\""
      ],
      "metadata": {
        "id": "c31fnZAD-uDN"
      },
      "execution_count": null,
      "outputs": []
    },
    {
      "cell_type": "markdown",
      "source": [
        "**Create Write Final Sections Node Function**"
      ],
      "metadata": {
        "id": "D7i6lGSk-zPk"
      }
    },
    {
      "cell_type": "code",
      "source": [
        "def write_final_sections(state: SectionState):\n",
        "    \"\"\" Write the final sections of the report, which do not require web search and use the completed sections as context\"\"\"\n",
        "\n",
        "    # Get state\n",
        "    section = state[\"section\"]\n",
        "    completed_report_sections = state[\"report_sections_from_research\"]\n",
        "\n",
        "    print('--- Writing Final Section: '+ section.name + ' ---')\n",
        "    # Format system instructions\n",
        "    system_instructions = FINAL_SECTION_WRITER_PROMPT.format(section_title=section.name,\n",
        "                                                             section_topic=section.description,\n",
        "                                                             context=completed_report_sections)\n",
        "\n",
        "    # Generate section\n",
        "    user_instruction = \"Craft a report section based on the provided sources.\"\n",
        "    section_content = llm.invoke([SystemMessage(content=system_instructions),\n",
        "                                  HumanMessage(content=user_instruction)])\n",
        "\n",
        "    # Write content to section\n",
        "    section.content = section_content.content\n",
        "\n",
        "    print('--- Writing Final Section: '+ section.name + ' Completed ---')\n",
        "    # Write the updated section to completed sections\n",
        "    return {\"completed_sections\": [section]}"
      ],
      "metadata": {
        "id": "Ona2b544-1-1"
      },
      "execution_count": null,
      "outputs": []
    },
    {
      "cell_type": "markdown",
      "source": [
        "**Create Dynamic Parallelization Node Function – Parallelize Final Section Writing**"
      ],
      "metadata": {
        "id": "-YbbFFis-7tk"
      }
    },
    {
      "cell_type": "code",
      "source": [
        "from langgraph.constants import Send\n",
        "\n",
        "def parallelize_final_section_writing(state: ReportState):\n",
        "    \"\"\" Write any final sections using the Send API to parallelize the process \"\"\"\n",
        "\n",
        "    # Kick off section writing in parallel via Send() API for any sections that do not require research\n",
        "    return [\n",
        "        Send(\"write_final_sections\",\n",
        "             {\"section\": s, \"report_sections_from_research\": state[\"report_sections_from_research\"]})\n",
        "                 for s in state[\"sections\"]\n",
        "                    if not s.research\n",
        "    ]"
      ],
      "metadata": {
        "id": "W5Xwr9wJ-9zk"
      },
      "execution_count": null,
      "outputs": []
    },
    {
      "cell_type": "markdown",
      "source": [
        "**Compile Final Report Node Function**"
      ],
      "metadata": {
        "id": "7VMvAIig_A99"
      }
    },
    {
      "cell_type": "code",
      "source": [
        "def compile_final_report(state: ReportState):\n",
        "    \"\"\" Compile the final report \"\"\"\n",
        "\n",
        "    # Get sections\n",
        "    sections = state[\"sections\"]\n",
        "    completed_sections = {s.name: s.content for s in state[\"completed_sections\"]}\n",
        "\n",
        "    print('--- Compiling Final Report ---')\n",
        "    # Update sections with completed content while maintaining original order\n",
        "    for section in sections:\n",
        "        section.content = completed_sections[section.name]\n",
        "\n",
        "    # Compile final report\n",
        "    all_sections = \"\\n\\n\".join([s.content for s in sections])\n",
        "    # Escape unescaped $ symbols to display properly in Markdown\n",
        "    formatted_sections = all_sections.replace(\"\\\\$\", \"TEMP_PLACEHOLDER\")  # Temporarily mark already escaped $\n",
        "    formatted_sections = formatted_sections.replace(\"$\", \"\\\\$\")  # Escape all $\n",
        "    formatted_sections = formatted_sections.replace(\"TEMP_PLACEHOLDER\", \"\\\\$\")  # Restore originally escaped $\n",
        "\n",
        "    # Now escaped_sections contains the properly escaped Markdown text\n",
        "    print('--- Compiling Final Report Done ---')\n",
        "    return {\"final_report\": formatted_sections}"
      ],
      "metadata": {
        "id": "jcJwxRuP_B90"
      },
      "execution_count": null,
      "outputs": []
    },
    {
      "cell_type": "markdown",
      "source": [
        "**Build our Deep Research & Report Writer Agent**"
      ],
      "metadata": {
        "id": "IOrejh61_FeV"
      }
    },
    {
      "cell_type": "code",
      "source": [
        "builder = StateGraph(ReportState, input=ReportStateInput, output=ReportStateOutput)\n",
        "\n",
        "builder.add_node(\"generate_report_plan\", generate_report_plan)\n",
        "builder.add_node(\"section_builder_with_web_search\", section_builder_subagent)\n",
        "builder.add_node(\"format_completed_sections\", format_completed_sections)\n",
        "builder.add_node(\"write_final_sections\", write_final_sections)\n",
        "builder.add_node(\"compile_final_report\", compile_final_report)\n",
        "\n",
        "builder.add_edge(START, \"generate_report_plan\")\n",
        "builder.add_conditional_edges(\"generate_report_plan\",\n",
        "                              parallelize_section_writing,\n",
        "                              [\"section_builder_with_web_search\"])\n",
        "builder.add_edge(\"section_builder_with_web_search\", \"format_completed_sections\")\n",
        "builder.add_conditional_edges(\"format_completed_sections\",\n",
        "                              parallelize_final_section_writing,\n",
        "                              [\"write_final_sections\"])\n",
        "builder.add_edge(\"write_final_sections\", \"compile_final_report\")\n",
        "builder.add_edge(\"compile_final_report\", END)\n",
        "\n",
        "reporter_agent = builder.compile()\n",
        "# view agent structure\n",
        "display(Image(reporter_agent.get_graph(xray=True).draw_mermaid_png()))"
      ],
      "metadata": {
        "id": "Yl2fDrz__GUZ"
      },
      "execution_count": null,
      "outputs": []
    },
    {
      "cell_type": "markdown",
      "source": [
        "**Run and Test our Deep Research & Report Writer Agent**"
      ],
      "metadata": {
        "id": "N06ZYlqC_I_l"
      }
    },
    {
      "cell_type": "code",
      "source": [
        "from IPython.display import display\n",
        "from rich.console import Console\n",
        "from rich.markdown import Markdown as RichMarkdown\n",
        "\n",
        "async def call_planner_agent(agent, prompt, config={\"recursion_limit\": 50}, verbose=False):\n",
        "    events = agent.astream(\n",
        "        {'topic' : prompt},\n",
        "        config,\n",
        "        stream_mode=\"values\",\n",
        "    )\n",
        "\n",
        "    async for event in events:\n",
        "        for k, v in event.items():\n",
        "            if verbose:\n",
        "                if k != \"__end__\":\n",
        "                    display(RichMarkdown(repr(k) + ' -> ' + repr(v)))\n",
        "            if k == 'final_report':\n",
        "                print('='*50)\n",
        "                print('Final Report:')\n",
        "                md = RichMarkdown(v)\n",
        "                display(md)"
      ],
      "metadata": {
        "id": "4NDC884E_Lmc"
      },
      "execution_count": null,
      "outputs": []
    },
    {
      "cell_type": "markdown",
      "source": [
        "**Test run**"
      ],
      "metadata": {
        "id": "bHUE_RUa_OZo"
      }
    },
    {
      "cell_type": "code",
      "source": [
        "topic = \"give any topic you want to conduct your deep research and write the report\"\n",
        "await call_planner_agent(agent=reporter_agent,\n",
        "                         prompt=topic)"
      ],
      "metadata": {
        "id": "yZ4AhvKj_R0Q"
      },
      "execution_count": null,
      "outputs": []
    }
  ]
}